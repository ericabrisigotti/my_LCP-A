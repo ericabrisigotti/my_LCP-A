{
 "cells": [
  {
   "cell_type": "markdown",
   "metadata": {
    "jp-MarkdownHeadingCollapsed": true,
    "tags": []
   },
   "source": [
    "## **Exercise 0**\n",
    "Implement a function (whatever you want) and save it to a file (e.g. `function.py`). Import that file and use that function in this notebook.\n"
   ]
  },
  {
   "cell_type": "code",
   "execution_count": 1,
   "metadata": {},
   "outputs": [
    {
     "name": "stdout",
     "output_type": "stream",
     "text": [
      "Bentornati su Breaking Italy!\n"
     ]
    }
   ],
   "source": [
    "from function_for_ex0 import is_there_breaking_italy_today\n",
    "today=True\n",
    "is_there_breaking_italy_today(today)"
   ]
  },
  {
   "cell_type": "code",
   "execution_count": 2,
   "metadata": {},
   "outputs": [
    {
     "name": "stdout",
     "output_type": "stream",
     "text": [
      "[alpaca]\n"
     ]
    }
   ],
   "source": [
    "today=False\n",
    "is_there_breaking_italy_today(today)"
   ]
  },
  {
   "cell_type": "markdown",
   "metadata": {},
   "source": [
    "## **Exercise 1**\n",
    "Write the following as a list comprehension"
   ]
  },
  {
   "cell_type": "code",
   "execution_count": 4,
   "metadata": {},
   "outputs": [
    {
     "name": "stdout",
     "output_type": "stream",
     "text": [
      "[(0, 0), (0, 1), (0, 2), (0, 3), (1, 0), (1, 1), (1, 2), (1, 3), (2, 0), (2, 1), (2, 2), (2, 3)]\n"
     ]
    }
   ],
   "source": [
    "# 1\n",
    "ans1 = []\n",
    "for i in range(3):\n",
    "    for j in range(4):\n",
    "        ans1.append((i, j))\n",
    "print (ans1)"
   ]
  },
  {
   "cell_type": "code",
   "execution_count": 6,
   "metadata": {},
   "outputs": [
    {
     "name": "stdout",
     "output_type": "stream",
     "text": [
      "[(0, 0), (0, 1), (0, 2), (0, 3), (1, 0), (1, 1), (1, 2), (1, 3), (2, 0), (2, 1), (2, 2), (2, 3)]\n"
     ]
    }
   ],
   "source": [
    "ans1=[(i,j) for i in range(3) for j in range(4)]\n",
    "print(ans1)"
   ]
  },
  {
   "cell_type": "code",
   "execution_count": 7,
   "metadata": {},
   "outputs": [
    {
     "name": "stdout",
     "output_type": "stream",
     "text": [
      "[0, 4, 16]\n"
     ]
    }
   ],
   "source": [
    "# 2\n",
    "ans2 = map(lambda x: x*x, filter(lambda x: x%2 == 0, range(5)))\n",
    "print (list(ans2))"
   ]
  },
  {
   "cell_type": "code",
   "execution_count": 9,
   "metadata": {},
   "outputs": [
    {
     "name": "stdout",
     "output_type": "stream",
     "text": [
      "[0, 4, 16]\n"
     ]
    }
   ],
   "source": [
    "ans2=[x**2 for x in range(5) if x%2 == 0]\n",
    "print(ans2)"
   ]
  },
  {
   "cell_type": "markdown",
   "metadata": {},
   "source": [
    "## **Exercise 2**\n",
    "Convert the following function into a pure function with no global variables or side effects"
   ]
  },
  {
   "cell_type": "code",
   "execution_count": 15,
   "metadata": {},
   "outputs": [
    {
     "name": "stdout",
     "output_type": "stream",
     "text": [
      "[1, 2, 3, 0, 1, 2, 3, 4]\n",
      "[1, 2, 3, 0, 1, 2, 3, 4]\n"
     ]
    }
   ],
   "source": [
    "x = 5\n",
    "def f(alist):\n",
    "    for i in range(x):\n",
    "         alist.append(i)\n",
    "    return alist\n",
    "\n",
    "alist = [1,2,3]\n",
    "ans = f(alist)\n",
    "print(ans)\n",
    "print(alist) # alist has been changed!"
   ]
  },
  {
   "cell_type": "code",
   "execution_count": 18,
   "metadata": {},
   "outputs": [
    {
     "name": "stdout",
     "output_type": "stream",
     "text": [
      "[1, 2, 3, 0, 1, 2, 3, 4]\n",
      "[1, 2, 3]\n"
     ]
    }
   ],
   "source": [
    "import copy\n",
    "x=5\n",
    "alist = [1,2,3]\n",
    "def g(alist,n):\n",
    "    temp=copy.deepcopy(alist)\n",
    "    temp.extend([i for i in range(n)])\n",
    "    return temp\n",
    "ans=g(alist,x)\n",
    "print(ans)\n",
    "print(alist)"
   ]
  },
  {
   "cell_type": "markdown",
   "metadata": {},
   "source": [
    "## **Exercise 3**\n",
    "Write a `decorator` hello that makes every wrapped function print “Hello!”, i.e. something like:\n",
    "\n",
    "```python\n",
    "@hello\n",
    "def square(x):\n",
    "    return x*x\n",
    "```\n",
    "\n"
   ]
  },
  {
   "cell_type": "code",
   "execution_count": 21,
   "metadata": {},
   "outputs": [
    {
     "name": "stdout",
     "output_type": "stream",
     "text": [
      "Hello!\n",
      "bla\n",
      "Goodbye\n"
     ]
    }
   ],
   "source": [
    "# firstly, I define the function that I'm going to modify with the wrapper\n",
    "def bla():\n",
    "    print(\"bla\")\n",
    "# then I define the decorator with the desired changes\n",
    "def my_decorator(func):\n",
    "    def wrapper():\n",
    "        print(\"Hello!\")\n",
    "        func()\n",
    "        print(\"Goodbye\")\n",
    "    return wrapper\n",
    "# then I apply said changed to the original function\n",
    "bla=my_decorator(bla)\n",
    "# to see the final (changed) result\n",
    "bla()"
   ]
  },
  {
   "cell_type": "markdown",
   "metadata": {},
   "source": [
    "## **Exercise 4**\n",
    "Write the factorial function so that it a) does and b) does not use recursion."
   ]
  },
  {
   "cell_type": "code",
   "execution_count": 38,
   "metadata": {},
   "outputs": [
    {
     "name": "stdout",
     "output_type": "stream",
     "text": [
      "120\n"
     ]
    }
   ],
   "source": [
    "# a\n",
    "# after initializing the inputs\n",
    "n=5\n",
    "# I compute the factorial\n",
    "def factorial_function_a(n):\n",
    "# I initialize the variable that is going to store the result as n\n",
    "    temp=n\n",
    "# since I want to iterate on a decreasing order of n\n",
    "    while n>1:\n",
    "# at every step, I update the desired value through multiplication\n",
    "        temp=temp*(n-1)\n",
    "# and the counter n\n",
    "        n=n-1\n",
    "    return temp\n",
    "print(factorial_function_a(n))"
   ]
  },
  {
   "cell_type": "code",
   "execution_count": 42,
   "metadata": {},
   "outputs": [
    {
     "name": "stdout",
     "output_type": "stream",
     "text": [
      "120\n"
     ]
    }
   ],
   "source": [
    "# b\n",
    "# after initializing the inputs\n",
    "n=5\n",
    "# I compute the factorial\n",
    "def factorial_function_b(n):\n",
    "# I initialize the vector that is going to allow me to avoid recursion\n",
    "    alist=list(range(1,n+1,1))\n",
    "# I initialize the variable that is going to store the result as 1\n",
    "    temp=1\n",
    "# since I'm going to exploit the increasing order withing the list I just created\n",
    "    for i in range(n):\n",
    "        temp=temp*alist[i]\n",
    "    return temp\n",
    "print(factorial_function_b(n))"
   ]
  },
  {
   "cell_type": "markdown",
   "metadata": {},
   "source": [
    "## **Exercise 5**\n",
    "Use HOFs (zip in particular) to compute the weight of a circle, a disk and a sphere, assuming different radii and different densities:\n",
    "\n",
    "```python\n",
    "densities = {\"Al\":[0.5,1,2],\"Fe\":[3,4,5],\"Pb\": [15,20,30]}\n",
    "radii = [1,2,3]\n",
    "```\n",
    "\n",
    "where the entries of the dictionary's values are the linear, superficial and volumetric densities of the materials respectively.\n",
    "\n",
    "In particular define a list of three lambda functions using a comprehension that computes the circumference, the area and the volume for a given radius.\n"
   ]
  },
  {
   "cell_type": "code",
   "execution_count": 33,
   "metadata": {},
   "outputs": [
    {
     "name": "stdout",
     "output_type": "stream",
     "text": [
      "{'Al': [3.141592653589793, 6.283185307179586, 9.42477796076938], 'Fe': [18.84955592153876, 37.69911184307752, 56.548667764616276], 'Pb': [94.24777960769379, 188.49555921538757, 282.7433388230814]}\n",
      "{'Al': [3.141592653589793, 12.566370614359172, 28.274333882308138], 'Fe': [12.566370614359172, 50.26548245743669, 113.09733552923255], 'Pb': [62.83185307179586, 251.32741228718345, 565.4866776461628]}\n",
      "{'Al': [8.377580409572781, 67.02064327658225, 226.1946710584651], 'Fe': [20.94395102393195, 167.5516081914556, 565.4866776461628], 'Pb': [125.66370614359171, 1005.3096491487337, 3392.9200658769764]}\n"
     ]
    }
   ],
   "source": [
    "# after initializing the inputs\n",
    "densities = {\"Al\":[0.5,1.,2.],\"Fe\":[3.,4.,5.],\"Pb\": [15.,20.,30.]}\n",
    "radii = [1,2,3]\n",
    "# I create an iterator containing tuples with the respective elements from the inputs\n",
    "zipped=zip(densities,radii)\n",
    "# print(zipped,list(zipped))\n",
    "import math\n",
    "# I now define the custom surface/volume functions as lambda functions:\n",
    "# - the first one calculates the length of a circle of radius r\n",
    "# - the second one computes the surface of a disk of radius r\n",
    "# - the third and last one calculates the volume of a sphere of radius r\n",
    "extensions=[[(lambda r: 2*math.pi*r)(r) for r in radii],[(lambda r: r**2*math.pi)(r) for r in radii],\n",
    "            [(lambda r: r**3*math.pi*4/3)(r) for r in radii]]\n",
    "circle_weights={ \"Al\": [densities[\"Al\"][0]*extensions[0][j] for j in range(3)] ,\n",
    "                \"Fe\": [densities[\"Fe\"][0]*extensions[0][j] for j in range(3)] , \n",
    "                \"Pb\": [densities[\"Pb\"][0]*extensions[0][j] for j in range(3)] }\n",
    "print(circle_weights)\n",
    "disk_weights={ \"Al\": [densities[\"Al\"][1]*extensions[1][j] for j in range(3)] ,\n",
    "                \"Fe\": [densities[\"Fe\"][1]*extensions[1][j] for j in range(3)] , \n",
    "                \"Pb\": [densities[\"Pb\"][1]*extensions[1][j] for j in range(3)] }\n",
    "print(disk_weights)\n",
    "sphere_weights={ \"Al\": [densities[\"Al\"][2]*extensions[2][j] for j in range(3)] ,\n",
    "                \"Fe\": [densities[\"Fe\"][2]*extensions[2][j] for j in range(3)] , \n",
    "                \"Pb\": [densities[\"Pb\"][2]*extensions[2][j] for j in range(3)] }\n",
    "print(sphere_weights)"
   ]
  },
  {
   "cell_type": "markdown",
   "metadata": {},
   "source": [
    "## **Exercise 6**\n",
    "Edit the class defintion to add an instance attribute of is_hungry = True to the Dog class. Then add a method called eat() which changes the value of is_hungry to False when called. Figure out the best way to feed each dog and then output “My dogs are hungry.” if all are hungry or “My dogs are not hungry.” if all are not hungry. The final output should look like this:\n",
    "\n",
    "`I have 3 dogs. \n",
    "Tom is 6. \n",
    "Fletcher is 7. \n",
    "Larry is 9. \n",
    "And they're all mammals, of course. \n",
    "My dogs are not hungry.\n",
    "`\n",
    "\n",
    "```python\n",
    "# Parent class\n",
    "class Dog:\n",
    "\n",
    "    # Class attribute\n",
    "    species = 'mammal'\n",
    "\n",
    "    # Initializer / Instance attributes\n",
    "    def __init__(self, name, age):\n",
    "        self.name = name\n",
    "        self.age = age\n",
    "\n",
    "    # instance method\n",
    "    def description(self):\n",
    "        return \"{} is {} years old\".format(self.name, self.age)\n",
    "\n",
    "    # instance method\n",
    "    def speak(self, sound):\n",
    "        return \"{} says {}\".format(self.name, sound)\n",
    "\n",
    "# Child class (inherits from Dog class)\n",
    "class RussellTerrier(Dog):\n",
    "    def run(self, speed):\n",
    "        return \"{} runs {}\".format(self.name, speed)\n",
    "\n",
    "# Child class (inherits from Dog class)\n",
    "class Bulldog(Dog):\n",
    "    def run(self, speed):\n",
    "        return \"{} runs {}\".format(self.name, speed)\n",
    "```"
   ]
  },
  {
   "cell_type": "code",
   "execution_count": 14,
   "metadata": {},
   "outputs": [],
   "source": [
    "# to count the number of dogs, I create a Parent class\n",
    "class Pets:\n",
    "\n",
    "    dogs = []\n",
    "\n",
    "    def __init__(self, dogs):\n",
    "        self.dogs = dogs\n",
    "\n",
    "class Dog:\n",
    "\n",
    "    # Class attribute\n",
    "    species = 'mammal'\n",
    "\n",
    "    # Initializer / Instance attributes\n",
    "    def __init__(self, name, age):\n",
    "        self.name = name\n",
    "        self.age = age\n",
    "        self.is_hungry = True\n",
    "\n",
    "    # instance method\n",
    "    def description(self):\n",
    "        return \"{} is {} years old\".format(self.name, self.age)\n",
    "\n",
    "    # instance method\n",
    "    def speak(self, sound):\n",
    "        return \"{} says {}\".format(self.name, sound)\n",
    "    \n",
    "    # Instance method\n",
    "    def eat(self):\n",
    "        self.is_hungry = False\n",
    "\n",
    "# Child class (inherits from Dog class)\n",
    "class RussellTerrier(Dog):\n",
    "    def run(self, speed):\n",
    "        return \"{} runs {}\".format(self.name, speed)\n",
    "\n",
    "# Child class (inherits from Dog class)\n",
    "class Bulldog(Dog):\n",
    "    def run(self, speed):\n",
    "        return \"{} runs {}\".format(self.name, speed)"
   ]
  },
  {
   "cell_type": "code",
   "execution_count": 15,
   "metadata": {},
   "outputs": [
    {
     "name": "stdout",
     "output_type": "stream",
     "text": [
      "I have 3 dogs.\n",
      "Tom is 6.\n",
      "Fletcher is 7.\n",
      "Larry is 9.\n",
      "And they're all mammals, of course.\n"
     ]
    }
   ],
   "source": [
    "# Create instances of dogs\n",
    "my_dogs = [ Bulldog(\"Tom\", 6), RussellTerrier(\"Fletcher\", 7), \n",
    "    Dog(\"Larry\", 9) ]\n",
    "\n",
    "# Instantiate the Pets class\n",
    "my_pets = Pets(my_dogs)\n",
    "\n",
    "# Output\n",
    "print(\"I have {} dogs.\".format(len(my_pets.dogs)))\n",
    "for dog in my_pets.dogs:\n",
    "    print(\"{} is {}.\".format(dog.name, dog.age))\n",
    "\n",
    "print(\"And they're all {}s, of course.\".format(dog.species))"
   ]
  },
  {
   "cell_type": "code",
   "execution_count": 16,
   "metadata": {},
   "outputs": [
    {
     "name": "stdout",
     "output_type": "stream",
     "text": [
      "My dogs are hungry.\n"
     ]
    }
   ],
   "source": [
    "are_my_dogs_hungry = False\n",
    "for dog in my_pets.dogs:\n",
    "    if dog.is_hungry:\n",
    "        are_my_dogs_hungry = True\n",
    "\n",
    "if are_my_dogs_hungry:\n",
    "    print(\"My dogs are hungry.\")\n",
    "else:\n",
    "    print(\"My dogs are not hungry.\")"
   ]
  }
 ],
 "metadata": {
  "kernelspec": {
   "display_name": "Python 3 (ipykernel)",
   "language": "python",
   "name": "python3"
  },
  "language_info": {
   "codemirror_mode": {
    "name": "ipython",
    "version": 3
   },
   "file_extension": ".py",
   "mimetype": "text/x-python",
   "name": "python",
   "nbconvert_exporter": "python",
   "pygments_lexer": "ipython3",
   "version": "3.10.10"
  }
 },
 "nbformat": 4,
 "nbformat_minor": 4
}
