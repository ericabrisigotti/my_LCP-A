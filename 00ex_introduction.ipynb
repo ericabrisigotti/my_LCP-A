{
 "cells": [
  {
   "cell_type": "markdown",
   "metadata": {},
   "source": [
    "# **week 0: exercises**"
   ]
  },
  {
   "cell_type": "markdown",
   "metadata": {
    "jp-MarkdownHeadingCollapsed": true,
    "tags": []
   },
   "source": [
    "## **1. The MickeyMouse problem**\n",
    "\n",
    "a) Write a program that prints the numbers from 1 to 100. But for multiples of 3 print `Mickey` instead of the corresponding number and for the multiples of 5 print `Mouse`. For numbers which are multiples of both three and five print `MickeyMouse`\n",
    "\n",
    "b) Put the result in a tuple and substitute `Mickey` with `Donald` and `Mouse` with `Duck`"
   ]
  },
  {
   "cell_type": "code",
   "execution_count": 7,
   "metadata": {},
   "outputs": [
    {
     "name": "stdout",
     "output_type": "stream",
     "text": [
      "1\n",
      "2\n",
      "3 Mickey\n",
      "4\n",
      "5 Mouse\n",
      "6 Mickey\n",
      "7\n",
      "8\n",
      "9 Mickey\n",
      "10 Mouse\n",
      "11\n",
      "12 Mickey\n",
      "13\n",
      "14\n",
      "15 Mickey\n",
      "15 MickeyMouse\n",
      "16\n",
      "17\n",
      "18 Mickey\n",
      "19\n",
      "20 Mouse\n",
      "21 Mickey\n",
      "22\n",
      "23\n",
      "24 Mickey\n",
      "25 Mouse\n",
      "26\n",
      "27 Mickey\n",
      "28\n",
      "29\n",
      "30 Mickey\n",
      "30 MickeyMouse\n",
      "31\n",
      "32\n",
      "33 Mickey\n",
      "34\n",
      "35 Mouse\n",
      "36 Mickey\n",
      "37\n",
      "38\n",
      "39 Mickey\n",
      "40 Mouse\n",
      "41\n",
      "42 Mickey\n",
      "43\n",
      "44\n",
      "45 Mickey\n",
      "45 MickeyMouse\n",
      "46\n",
      "47\n",
      "48 Mickey\n",
      "49\n",
      "50 Mouse\n",
      "51 Mickey\n",
      "52\n",
      "53\n",
      "54 Mickey\n",
      "55 Mouse\n",
      "56\n",
      "57 Mickey\n",
      "58\n",
      "59\n",
      "60 Mickey\n",
      "60 MickeyMouse\n",
      "61\n",
      "62\n",
      "63 Mickey\n",
      "64\n",
      "65 Mouse\n",
      "66 Mickey\n",
      "67\n",
      "68\n",
      "69 Mickey\n",
      "70 Mouse\n",
      "71\n",
      "72 Mickey\n",
      "73\n",
      "74\n",
      "75 Mickey\n",
      "75 MickeyMouse\n",
      "76\n",
      "77\n",
      "78 Mickey\n",
      "79\n",
      "80 Mouse\n",
      "81 Mickey\n",
      "82\n",
      "83\n",
      "84 Mickey\n",
      "85 Mouse\n",
      "86\n",
      "87 Mickey\n",
      "88\n",
      "89\n",
      "90 Mickey\n",
      "90 MickeyMouse\n",
      "91\n",
      "92\n",
      "93 Mickey\n",
      "94\n",
      "95 Mouse\n",
      "96 Mickey\n",
      "97\n",
      "98\n",
      "99 Mickey\n",
      "[3, 5, 6, 9, 10, 12, 15, 18, 20, 21, 24, 25, 27, 30, 33, 35, 36, 39, 40, 42, 45, 48, 50, 51, 54, 55, 57, 60, 63, 65, 66, 69, 70, 72, 75, 78, 80, 81, 84, 85, 87, 90, 93, 95, 96, 99]\n"
     ]
    }
   ],
   "source": [
    "# I initialize\n",
    "# - the entries for the looping range\n",
    "start,stop,step=1,100,1\n",
    "# - the number for which to divide\n",
    "val1=3\n",
    "val2=5\n",
    "# - the text to display based on the division\n",
    "text1='Mickey'\n",
    "text2='Mouse'\n",
    "# then I iterate\n",
    "# since tuples are immutable, I need to first put the result in a list\n",
    "output=[]\n",
    "for i in range(start,stop,step):\n",
    "# the selection is based on the reminder of the divisions:\n",
    "    if (i%val1)==0:\n",
    "        print(i,text1)\n",
    "        output.append(i)\n",
    "        if (i%val2==0):\n",
    "            print(i,text1+text2)\n",
    "    elif (i%val2==0):\n",
    "        print(i,text2)\n",
    "        output.append(i)\n",
    "    else:\n",
    "        print(i)\n",
    "print(output)"
   ]
  },
  {
   "cell_type": "markdown",
   "metadata": {
    "jp-MarkdownHeadingCollapsed": true,
    "tags": []
   },
   "source": [
    "## **2\\. The swap function**\n",
    "\n",
    "Write a function that swap the values of two input variables x and y (whatever the type). Try to do that also without a temporary variable"
   ]
  },
  {
   "cell_type": "code",
   "execution_count": 11,
   "metadata": {},
   "outputs": [
    {
     "name": "stdout",
     "output_type": "stream",
     "text": [
      "initially: input1=  100  while input2= 0.3\n",
      "after the function: input1=  0.3  while input2= 100\n"
     ]
    }
   ],
   "source": [
    "# firstly, I initialize the inputs\n",
    "input1,input2=100,0.3\n",
    "print('initially: input1= ',input1,' while input2=',input2)\n",
    "# I then define the function:\n",
    "def invert_2_inputs(input1,input2):\n",
    "# I can try to use lists to avoid temporary variables \n",
    "# since I don't know the type of variables in input, I make sure they're lists:\n",
    "    input1=[input1]\n",
    "    input2=[input2]\n",
    "# then I add the other element to each list\n",
    "    input1.insert(1,input2[0])\n",
    "    input2.insert(1,input1[0])\n",
    "# to later delete the original one\n",
    "    input1.remove(input1[0])\n",
    "    input2.remove(input2[0])\n",
    "# and extract the element out of the list that were used:\n",
    "    input1=input1[0]\n",
    "    input2=input2[0]\n",
    "    return input1,input2\n",
    "input1,input2=invert_2_inputs(input1,input2)\n",
    "# finally, let's check:\n",
    "print('after the function: input1= ',input1,' while input2=',input2)"
   ]
  },
  {
   "cell_type": "markdown",
   "metadata": {
    "jp-MarkdownHeadingCollapsed": true,
    "tags": []
   },
   "source": [
    "## **3\\. Computing the distance**\n",
    "\n",
    "Write a function that calculates and returns the euclidean distance between two points *u* and *v*, where *u* and *v* are both 2-tuples *(x,y)*. For example, if *u=(3,0)* and *v=(0,4)*, the function should return 5"
   ]
  },
  {
   "cell_type": "code",
   "execution_count": 13,
   "metadata": {},
   "outputs": [
    {
     "name": "stdout",
     "output_type": "stream",
     "text": [
      "the distance between points u  (3, 0)  and v (0, 4) is  5.0\n"
     ]
    }
   ],
   "source": [
    "# firstly, I initialize the points:\n",
    "u=(3,0)\n",
    "v=(0,4)\n",
    "# I then define the function:\n",
    "def euclidean_distance(u,v):\n",
    "    return ((u[0]-v[0])**2+(u[1]-v[1])**2)**0.5\n",
    "d=euclidean_distance(u,v)\n",
    "print('the distance between points u ',u,' and v ',v,'is ',d)"
   ]
  },
  {
   "cell_type": "markdown",
   "metadata": {
    "jp-MarkdownHeadingCollapsed": true,
    "tags": []
   },
   "source": [
    "## **4\\. Counting letters**\n",
    "\n",
    "Write a program to calculate the number of times each character occurs in a given string *s*. Ignore differneces in capitalization"
   ]
  },
  {
   "cell_type": "code",
   "execution_count": 1,
   "metadata": {},
   "outputs": [
    {
     "name": "stdout",
     "output_type": "stream",
     "text": [
      "the number of  s  characters used in the input string is  9\n"
     ]
    }
   ],
   "source": [
    "# firstly, I initialize\n",
    "# - the string where I want to count\n",
    "string=\"Write a program that prints the numbers from 1 to 100. \\\n",
    "But for multiples of three print Mickey instead of the number and for the multiples of five print Mouse. \\\n",
    "For numbers which are multiples of both three and five print MickeyMouse\"\n",
    "# - the letter I want to count\n",
    "letter='s'\n",
    "print('the number of ',letter,' characters used in the input string is ',string.count(letter.lower()))"
   ]
  },
  {
   "cell_type": "markdown",
   "metadata": {
    "jp-MarkdownHeadingCollapsed": true,
    "tags": []
   },
   "source": [
    "## **5\\. Isolating the unique**\n",
    "\n",
    "Write a function that determines and count the unique numbers in the list *l*"
   ]
  },
  {
   "cell_type": "code",
   "execution_count": 21,
   "metadata": {},
   "outputs": [
    {
     "name": "stdout",
     "output_type": "stream",
     "text": [
      "the unique elements of the input list are  54  and are [1, 3, 5, 8, 9, 10, 16, 18, 19, 20, 24, 30, 31, 33, 34, 36, 37, 39, 41, 42, 45, 47, 50, 51, 53, 54, 55, 56, 57, 58, 63, 64, 66, 70, 72, 74, 75, 79, 81, 82, 84, 85, 86, 87, 88, 89, 90, 91, 92, 94, 95, 96, 98, 99]\n"
     ]
    }
   ],
   "source": [
    "# firstly, I initialize the list\n",
    "l= [36, 45, 58, 3, 74, 96, 64, 45, 31, 10, 24, 19, 33, 86, 99, 18, 63, 70, 85,\n",
    " 85, 63, 47, 56, 42, 70, 84, 88, 55, 20, 54, 8, 56, 51, 79, 81, 57, 37, 91,\n",
    " 1, 84, 84, 36, 66, 9, 89, 50, 42, 91, 50, 95, 90, 98, 39, 16, 82, 31, 92, 41,\n",
    " 45, 30, 66, 70, 34, 85, 94, 5, 3, 36, 72, 91, 84, 34, 87, 75, 53, 51, 20, 89, 51, 20]\n",
    "# to select its unique members, I use the properties of sets\n",
    "print('the unique elements of the input list are ',len(list(set(l))),' and are',list(set(l)))"
   ]
  },
  {
   "cell_type": "markdown",
   "metadata": {
    "jp-MarkdownHeadingCollapsed": true,
    "tags": []
   },
   "source": [
    "## **6\\. Combination of functions**\n",
    "\n",
    "Write two functions - one that returns the square of a number, and one that returns the cube. Now write a third function that returns the number raised to the 6th power using the two previous functions."
   ]
  },
  {
   "cell_type": "code",
   "execution_count": 23,
   "metadata": {},
   "outputs": [
    {
     "name": "stdout",
     "output_type": "stream",
     "text": [
      "9 27 729\n"
     ]
    }
   ],
   "source": [
    "x=3\n",
    "def squared(x):\n",
    "    return x**2\n",
    "def cubed(x):\n",
    "    return x**3\n",
    "def to_sixth(x):\n",
    "    return cubed(squared(x))\n",
    "print(squared(x),cubed(x),to_sixth(x))"
   ]
  },
  {
   "cell_type": "markdown",
   "metadata": {
    "jp-MarkdownHeadingCollapsed": true,
    "tags": []
   },
   "source": [
    "## **7\\. Cubes**\n",
    "\n",
    "Create a list of the cubes of x for x in *[0, 10]* using:\n",
    "\n",
    "a) a for loop\n",
    "\n",
    "b) a list comprehension"
   ]
  },
  {
   "cell_type": "code",
   "execution_count": 36,
   "metadata": {},
   "outputs": [
    {
     "name": "stdout",
     "output_type": "stream",
     "text": [
      "[0, 1, 8, 27, 64, 125, 216, 343, 512, 729]\n"
     ]
    }
   ],
   "source": [
    "# a)\n",
    "# firstly, I initialize\n",
    "# - the parameters for the iteration (through a for-loop)\n",
    "start,stop,step=0,10,1\n",
    "# - a list where I'm going to store the cubes\n",
    "l=[]\n",
    "for i in range(start,stop,step):\n",
    "    l.append(i**3)\n",
    "print(l)"
   ]
  },
  {
   "cell_type": "code",
   "execution_count": 37,
   "metadata": {},
   "outputs": [
    {
     "name": "stdout",
     "output_type": "stream",
     "text": [
      "[0, 1, 8, 27, 64, 125, 216, 343, 512, 729]\n"
     ]
    }
   ],
   "source": [
    "# b)\n",
    "# firstly, I initialize the parameters for the iteration (through a list comprehension)\n",
    "start,stop,step=0,10,1\n",
    "l=[i**3 for i in range(start,stop,step)]\n",
    "print(l)"
   ]
  },
  {
   "cell_type": "markdown",
   "metadata": {
    "jp-MarkdownHeadingCollapsed": true,
    "tags": []
   },
   "source": [
    "## **8\\. Nested list comprehension**\n",
    "\n",
    "A Pythagorean triple is an integer solution to the Pythagorean theorem $a^2+b^2=c^2$. The first Pythagorean triple is (3,4,5). Find and put in a tuple all unique Pythagorean triples for the positive integers a, b and c less than 100."
   ]
  },
  {
   "cell_type": "code",
   "execution_count": 70,
   "metadata": {},
   "outputs": [
    {
     "name": "stdout",
     "output_type": "stream",
     "text": [
      "(3, 4, 5)\n",
      "(5, 12, 13)\n",
      "(6, 8, 10)\n",
      "(7, 24, 25)\n",
      "(8, 15, 17)\n",
      "(9, 12, 15)\n",
      "(9, 40, 41)\n",
      "(10, 24, 26)\n",
      "(11, 60, 61)\n",
      "(12, 16, 20)\n",
      "(12, 35, 37)\n",
      "(13, 84, 85)\n",
      "(14, 48, 50)\n",
      "(15, 20, 25)\n",
      "(15, 36, 39)\n",
      "(16, 30, 34)\n",
      "(16, 63, 65)\n",
      "(18, 24, 30)\n",
      "(18, 80, 82)\n",
      "(20, 21, 29)\n",
      "(20, 48, 52)\n",
      "(21, 28, 35)\n",
      "(21, 72, 75)\n",
      "(24, 32, 40)\n",
      "(24, 45, 51)\n",
      "(24, 70, 74)\n",
      "(25, 60, 65)\n",
      "(27, 36, 45)\n",
      "(28, 45, 53)\n",
      "(30, 40, 50)\n",
      "(30, 72, 78)\n",
      "(32, 60, 68)\n",
      "(33, 44, 55)\n",
      "(33, 56, 65)\n",
      "(35, 84, 91)\n",
      "(36, 48, 60)\n",
      "(36, 77, 85)\n",
      "(39, 52, 65)\n",
      "(39, 80, 89)\n",
      "(40, 42, 58)\n",
      "(40, 75, 85)\n",
      "(42, 56, 70)\n",
      "(45, 60, 75)\n",
      "(48, 55, 73)\n",
      "(48, 64, 80)\n",
      "(51, 68, 85)\n",
      "(54, 72, 90)\n",
      "(57, 76, 95)\n",
      "(60, 63, 87)\n",
      "(65, 72, 97)\n"
     ]
    }
   ],
   "source": [
    "# firstly, I initialize\n",
    "# - the ceiling for the elements of the Pythagorean triples\n",
    "maxval=100\n",
    "# - the parameters for the iteration\n",
    "start,stop,step=1,100,1\n",
    "# i finally iterate over the possible (integer) values of the elements a,b,c of the triples\n",
    "for a in range(start,stop,step):\n",
    "    for b in range(start,stop,step):\n",
    "        for c in range(start,stop,step):\n",
    "# the selection is based on:\n",
    "# - on the definition of Pythagorean triple\n",
    "# - on showing the elements of the triples in increasing order, to only show the unique ones (i.e. not to have repetition)\n",
    "# - on respecting the input ceiling \"maxval\" for the elements a,b,c\n",
    "#   (the use of max(...) is not necessary because of the forementioned increasing order a<b<c)\n",
    "            if (a**2+b**2==c**2) & (a<b) & (b<c) &  (c<maxval):\n",
    "                print((a,b,c))"
   ]
  },
  {
   "cell_type": "markdown",
   "metadata": {
    "jp-MarkdownHeadingCollapsed": true,
    "tags": []
   },
   "source": [
    "## **9\\. Normalization**\n",
    "\n",
    "Write a function that takes a tuple of numbers and returns it with the entries normalized to one"
   ]
  },
  {
   "cell_type": "code",
   "execution_count": 75,
   "metadata": {},
   "outputs": [
    {
     "name": "stdout",
     "output_type": "stream",
     "text": [
      "(0.4242640687119285, 0.565685424949238, 0.7071067811865475)\n"
     ]
    }
   ],
   "source": [
    "# firstly, I initialize the input\n",
    "t=(3.,4.,5.) \n",
    "# then I define the function\n",
    "def normalize_tuple(t):\n",
    "# I start by calculating the norm of the input tuple\n",
    "    n=(sum([i**2 for i in t]))**0.5\n",
    "# for which I divide, element by element, the values in the tuple exploiting list comprehensions\n",
    "    nt=[i/n for i in t]\n",
    "# to ultimately turn the result into the original (tuple) format\n",
    "    return tuple(nt)\n",
    "print(normalize_tuple(t))"
   ]
  }
 ],
 "metadata": {
  "kernelspec": {
   "display_name": "Python 3 (ipykernel)",
   "language": "python",
   "name": "python3"
  },
  "language_info": {
   "codemirror_mode": {
    "name": "ipython",
    "version": 3
   },
   "file_extension": ".py",
   "mimetype": "text/x-python",
   "name": "python",
   "nbconvert_exporter": "python",
   "pygments_lexer": "ipython3",
   "version": "3.10.10"
  }
 },
 "nbformat": 4,
 "nbformat_minor": 4
}
