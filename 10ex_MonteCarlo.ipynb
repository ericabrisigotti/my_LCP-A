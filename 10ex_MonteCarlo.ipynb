{
 "cells": [
  {
   "cell_type": "code",
   "execution_count": 7,
   "metadata": {},
   "outputs": [],
   "source": [
    "import numpy as np\n",
    "import matplotlib.pyplot as plt"
   ]
  },
  {
   "cell_type": "markdown",
   "metadata": {},
   "source": [
    "1\\. **Radioactive decay chain**\n",
    "\n",
    "${\\rm Tl}^{208}$ decays to ${\\rm Pb}^{208}$ with a half-lieve of 3.052 minutes. Suppose to start with a sample of 1000 Thallium atoms and 0 of Lead atoms.\n",
    "\n",
    "* Take steps in time of 1 second and at each time-step decide whether each Tl atom has decayed or not, accordingly to the probability $p(t)=1-2^{-t/\\tau}$. Subtract the total number of Tl atoms that decayed at each step from the Tl sample and add them to the Lead one. Plot the evolution of the two sets as a function of time  "
   ]
  },
  {
   "cell_type": "code",
   "execution_count": 35,
   "metadata": {},
   "outputs": [],
   "source": [
    "# firstly, I define the half-life\n",
    "half_life = 3.052*60 # s\n",
    "# and initialize the values of time\n",
    "t = np.arange(start=0,stop=5*half_life,step=1)\n",
    "# to get the probability of decay\n",
    "prob = 1 - 2**(-t / half_life)"
   ]
  },
  {
   "cell_type": "code",
   "execution_count": 36,
   "metadata": {},
   "outputs": [],
   "source": [
    "# I initialize the vectors with the number of atoms in time\n",
    "n_Tl = np.zeros(t.size)\n",
    "n_Pb = np.zeros(t.size)\n",
    "# with an initial sample of 1000 Tl atoms and 0 Pb atoms\n",
    "n_Tl[0],n_Pb[0]=1000,0\n",
    "\n",
    "temp = n_Tl[0]*prob\n",
    "n_Tl = n_Tl[0]*np.ones(t.size) - temp\n",
    "n_Pb = n_Pb[0]*np.ones(t.size) + temp"
   ]
  },
  {
   "cell_type": "code",
   "execution_count": 39,
   "metadata": {},
   "outputs": [
    {
     "data": {
      "image/png": "[encoded data removed]",
      "text/plain": [
       "<Figure size 432x288 with 1 Axes>"
      ]
     },
     "metadata": {
      "needs_background": "light"
     },
     "output_type": "display_data"
    }
   ],
   "source": [
    "fig,ax = plt.subplots(nrows=1,ncols=1)\n",
    "ax.plot(t,n_Tl,'-*b',label='Thallium')\n",
    "ax.plot(t,n_Pb,'-*r',label='Lead')\n",
    "ax.vlines(x=half_life,ymin=0,ymax=1000,label='half life')\n",
    "ax.set_xlim(0,2*half_life)\n",
    "ax.set_ylim(0,1000)\n",
    "ax.set_xlabel('time $t$ [s]')\n",
    "ax.set_ylabel('number of atoms $n$')\n",
    "ax.legend()\n",
    "plt.show()"
   ]
  },
  {
   "cell_type": "markdown",
   "metadata": {},
   "source": [
    "* Repeat the exercise by means of the inverse transform method: draw 1000 random numbers from the non-uniform probability distribution $p(t)=2^{-t/\\tau}\\frac{\\ln 2}{\\tau}$ to represent the times of decay of the 1000 Tl atoms. Make a plot showing the number of atoms that have not decayed as a function of time"
   ]
  },
  {
   "cell_type": "markdown",
   "metadata": {},
   "source": [
    "$$ p(t)=z=2^{-t/\\tau}\\frac{\\ln 2}{\\tau}$$\n",
    "$$\\frac{z \\tau}{\\ln(2)} = 2^{-t/\\tau}$$\n",
    "$$t=-\\log_2(\\frac{z \\tau}{\\ln(2)}) \\tau $$"
   ]
  },
  {
   "cell_type": "code",
   "execution_count": 60,
   "metadata": {},
   "outputs": [
    {
     "name": "stdout",
     "output_type": "stream",
     "text": [
      "-1473.1547240084492 429.5632933713417\n"
     ]
    },
    {
     "data": {
      "image/png": "[encoded data removed]",
      "text/plain": [
       "<Figure size 432x288 with 1 Axes>"
      ]
     },
     "metadata": {
      "needs_background": "light"
     },
     "output_type": "display_data"
    }
   ],
   "source": [
    "def my_pdf(t,half_life):\n",
    "    return ( 2**(-t / half_life))\n",
    "\n",
    "print()\n",
    "# firstly, I define the (non-uniform) cumulative probability distribution\n",
    "def my_cdf(t,tau):\n",
    "    return 2**(-t/tau)*np.log(2)/tau\n",
    "# and the inverse cumulative distribution function\n",
    "def my_icdf(z,tau):\n",
    "    return -tau*np.log2(z*tau/np.log(2))\n",
    "\n",
    "fig,ax=plt.subplots(nrows=1,ncols=1)\n",
    "u = np.random.random(1000)\n",
    "v = my_icdf(u,half_life)\n",
    "print(v.min(),v.max())\n",
    "plt.hist(v, histtype='step', bins=100, density=True, linewidth=2)\n",
    "#plt.plot(t, my_pdf(t,half_life), linewidth=2)\n",
    "#plt.axis([0,4,0,1])\n",
    "plt.title('Histogram of exponential PRNGs');"
   ]
  },
  {
   "cell_type": "markdown",
   "metadata": {},
   "source": [
    "2\\. **Rutherford Scattering**\n",
    "\n",
    "The scattering angle $\\theta$ of $\\alpha$ particles hitting a positively charged nucleus of a Gold atom ($Z=79$) follows the rule:\n",
    "\n",
    "$$\n",
    "\\tan{\\frac{1}{2} \\theta} = \\frac{Z e^2} {2\\pi \\epsilon_0 E b}\n",
    "$$\n",
    "\n",
    "where $E=7.7$ MeV and $b$ beam is the impact parameter. The beam is represented by a 2D gaussian distribution with $\\sigma=a_0/100$ for both coordinates ($a_0$ being the Bohr radius). Assume 1 million $\\alpha$ particles are shot on the gold atom.\n",
    "\n",
    "Computing the fraction of particles that \"bounce back\",i.e. those particle whose scattering angle is greater than $\\pi/2$ (which set a condition on the impact parameter $b$)"
   ]
  },
  {
   "cell_type": "code",
   "execution_count": 82,
   "metadata": {},
   "outputs": [
    {
     "name": "stdout",
     "output_type": "stream",
     "text": [
      "No. of particles that bounce back for given sigma=10^-17:  0.500566\n"
     ]
    }
   ],
   "source": [
    "import numpy as np\n",
    "\n",
    "# Another method\n",
    "# the impact parameter is considered from b=0 to b=100fm\n",
    "# setting the condition on impact parameter b\n",
    "# min angle=0.1 deg ----> b=16929.7823 fm  \n",
    "# max angle=180 deg ----> b=0 fm\n",
    "# In this 3*sigma = 16929fm => sigma = 5e-12m\n",
    "\n",
    "# Energy\n",
    "Z = 79\n",
    "e = 1.6e-19\n",
    "epsilon0 = 8.854e-12\n",
    "E = (7.7e6)*(1.6e-19)\n",
    "a0 = 1e-15 # Bohr radius\n",
    "N = int(1e6) # No. of particles\n",
    "sigma = a0/100\n",
    "b = np.random.normal(scale=sigma,size=N)\n",
    "#print(b[:20])\n",
    "\n",
    "theta = 2*np.arctan((Z*e**2)/(2*np.pi*epsilon0*E*b))\n",
    "\n",
    "# No. of scattering angles greater than pi/2\n",
    "bounce_back = len(theta[theta>abs(np.pi/2)])\n",
    "\n",
    "fraction_bounce_back = bounce_back/N\n",
    "\n",
    "print(\"No. of particles that bounce back for given sigma=10^-17: \", fraction_bounce_back)\n"
   ]
  },
  {
   "cell_type": "markdown",
   "metadata": {},
   "source": [
    "3\\. **Monte Carlo integration: hit/miss vs mean value method**\n",
    "\n",
    "Consider the function \n",
    "\n",
    "$$f(x) =\\sin^2{\\frac{1}{x(2-x)}}$$\n",
    "\n",
    "* Compute the integral of $f(x)$ between 0 and 2 with the hit/miss method. Evaluate the error of your estimate\n",
    "* Repeat the integral with the mean value method. Evaluate the error and compare it with the previous one"
   ]
  },
  {
   "cell_type": "code",
   "execution_count": 83,
   "metadata": {},
   "outputs": [
    {
     "name": "stdout",
     "output_type": "stream",
     "text": [
      "Integral by Monte-Carlo method:  0.72645\n"
     ]
    },
    {
     "data": {
      "image/png": "[encoded data removed]",
      "text/plain": [
       "<Figure size 640x480 with 1 Axes>"
      ]
     },
     "metadata": {},
     "output_type": "display_data"
    }
   ],
   "source": [
    "# Hit or Miss method or Monte-Carlo method\n",
    "def f(x):\n",
    "    return (np.sin(1/(x*(2-x))))**2\n",
    "\n",
    "x=np.linspace(0.001,1.999,1000) #at x=0 and x=2 very disturbing things happen. There exists singular points.\n",
    "plt.plot(x,f(x),'r-')\n",
    "\n",
    "N=100000\n",
    "count=0\n",
    "for i in range(N):\n",
    "    x=np.random.random()\n",
    "    y=np.random.random()\n",
    "    if y<f(x): count+=1\n",
    "I=count/N\n",
    "print(\"Integral by Monte-Carlo method: \",I)"
   ]
  },
  {
   "cell_type": "code",
   "execution_count": 84,
   "metadata": {},
   "outputs": [
    {
     "name": "stdout",
     "output_type": "stream",
     "text": [
      "Integral by Mean value method 0.726918749810807\n"
     ]
    }
   ],
   "source": [
    "# Mean value method\n",
    "def f(x):\n",
    "    return (np.sin(1/(x*(2-x))))**2\n",
    "\n",
    "N=100000\n",
    "x = np.random.uniform(size=N)\n",
    "a = 0\n",
    "b = 1\n",
    "I = ((b-a)/N)*sum(f(x))\n",
    "print(\"Integral by Mean value method\",I)\n"
   ]
  },
  {
   "cell_type": "markdown",
   "metadata": {},
   "source": [
    "4\\. **Monte Carlo integration in high dimension**\n",
    "\n",
    "* Start of by computing the area of a circle of unit radius, by integrating the function \n",
    "\n",
    "$$\n",
    "f(x,y)=\n",
    "\\left\\{\n",
    "\\begin{array}{ll}\n",
    "      1 & x^2+y^2\\le 1 \\\\\n",
    "      0 & {\\rm elsewhere}\n",
    "\\end{array} \n",
    "\\right.\n",
    "$$\n",
    "\n"
   ]
  },
  {
   "cell_type": "code",
   "execution_count": 85,
   "metadata": {},
   "outputs": [
    {
     "name": "stdout",
     "output_type": "stream",
     "text": [
      "Area of the circle:  3.141796\n"
     ]
    }
   ],
   "source": [
    "#Monte Carlo without for loop\n",
    "import numpy as np\n",
    "\n",
    "N = 1000000\n",
    "r=1 #radius\n",
    "x = np.random.uniform(-1.0,1.0,size=N)\n",
    "y = np.random.uniform(-1.0,1.0,size=N)\n",
    "distance = x**2+y**2\n",
    "points_inside = len(distance[np.sqrt(distance)<=r])\n",
    "#print(points_inside)\n",
    "area = 4*(points_inside/N)\n",
    "print(\"Area of the circle: \",area)"
   ]
  },
  {
   "cell_type": "markdown",
   "metadata": {},
   "source": [
    "* Generalize the result for a 10D sphere"
   ]
  },
  {
   "cell_type": "code",
   "execution_count": 86,
   "metadata": {},
   "outputs": [
    {
     "name": "stdout",
     "output_type": "stream",
     "text": [
      "Volume of a 10D sphere:  2.51904\n",
      "Area of a circle:  3.1338\n"
     ]
    }
   ],
   "source": [
    "# 10D Monte Carlo generalisation without for loop\n",
    "# https://stackoverflow.com/questions/51091377/how-to-compute-volume-of-10-dimentional-sphere-with-monte-carlo-method-in-python\n",
    "import numpy as np\n",
    "\n",
    "def nSphereVolume(dim, N):\n",
    "    point = np.random.uniform(-1.0, 1.0, size=[N,dim])\n",
    "    distance = np.apply_along_axis(np.linalg.norm, 1, point)\n",
    "    count_in_sphere = len(distance[distance<=1])\n",
    "    #print(count_in_sphere)\n",
    "    return np.power(2.0, dim) * (count_in_sphere / N)\n",
    "\n",
    "print(\"Volume of a 10D sphere: \",nSphereVolume(10, 100000))\n",
    "print(\"Area of a circle: \", nSphereVolume(2,100000))"
   ]
  },
  {
   "cell_type": "markdown",
   "metadata": {},
   "source": [
    "5\\. **Monte Carlo integration with importance sampling** \n",
    "\n",
    "Calculate the value of the integral:\n",
    "\n",
    "$$\n",
    "I=\\int_0^1 \\frac{x^{-1/2}}{e^x+1} dx\n",
    "$$\n",
    "\n",
    "using the importance sampling method with $w(x)=1/\\sqrt{x}$. You should get a result about 0.84"
   ]
  },
  {
   "cell_type": "code",
   "execution_count": 87,
   "metadata": {},
   "outputs": [
    {
     "name": "stdout",
     "output_type": "stream",
     "text": [
      "0.84\n"
     ]
    }
   ],
   "source": [
    "import numpy as np\n",
    "def f(x):\n",
    "    return x**-0.5/(np.exp(x)+1)\n",
    "\n",
    "def w(x):\n",
    "    return np.sqrt(x)**-1\n",
    "\n",
    "def inv_transform(x): #inverse transform method for sampling\n",
    "    return np.square(x)/4\n",
    "\n",
    "n = int(1e6)\n",
    "x = np.random.uniform(0,2,size=n)\n",
    "ws = inv_transform(x)\n",
    "I = (np.sum(f(ws)/w(ws))*2)/n\n",
    "\n",
    "print(np.round((I),2))"
   ]
  }
 ],
 "metadata": {
  "kernelspec": {
   "display_name": "Python 3 (ipykernel)",
   "language": "python",
   "name": "python3"
  },
  "language_info": {
   "codemirror_mode": {
    "name": "ipython",
    "version": 3
   },
   "file_extension": ".py",
   "mimetype": "text/x-python",
   "name": "python",
   "nbconvert_exporter": "python",
   "pygments_lexer": "ipython3",
   "version": "3.10.10"
  }
 },
 "nbformat": 4,
 "nbformat_minor": 4
}
